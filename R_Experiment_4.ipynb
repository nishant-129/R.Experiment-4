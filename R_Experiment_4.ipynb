{
  "nbformat": 4,
  "nbformat_minor": 0,
  "metadata": {
    "colab": {
      "name": "R.Experiment-4.ipynb",
      "provenance": [],
      "collapsed_sections": []
    },
    "kernelspec": {
      "name": "ir",
      "display_name": "R"
    }
  },
  "cells": [
    {
      "cell_type": "markdown",
      "metadata": {
        "id": "ID8ytqkhyQUI"
      },
      "source": [
        "**R Programming apply family of functions**\n",
        "\n",
        "In this experiment we will learn about how to use apply family of functions\n",
        "to do data wrangling and avaoid use of looping constructs \n",
        "\n",
        "The R base manual tells you that it’s called as follows: \n",
        "\n",
        "```\n",
        "apply(X, MARGIN, FUN, ...)\n",
        "```\n",
        "\n",
        "\n",
        "```X``` is an array or a matrix if the dimension of the array is ```2```\n",
        "\n",
        "```MARGIN``` is a variable defining how the function is applied: \n",
        " \n",
        "\n",
        "*   When ```MARGIN=1```, it applies over rows \n",
        "*   Whereas with ```MARGIN=2```, it works over columns\n",
        "*   ```MARGIN=c(1,2)```, it applies to both rows and columns;     \n",
        "\n",
        "and\n",
        "```FUN```, represents the function that you want to apply to the data. It can be any R function, including a User Defined Function (UDF)."
      ]
    },
    {
      "cell_type": "code",
      "metadata": {
        "id": "rlOEIqlfJf2P",
        "colab": {
          "base_uri": "https://localhost:8080/",
          "height": 191
        },
        "outputId": "9af342ee-0b9f-478d-8be2-db78a41c2540"
      },
      "source": [
        "# Complete the following code by using apropriate apply family function\n",
        "# Construct a 5x6 matrix\n",
        "X <-matrix(rnorm(30), nrow=5, ncol=6)\n",
        "X"
      ],
      "execution_count": 27,
      "outputs": [
        {
          "output_type": "display_data",
          "data": {
            "text/plain": [
              "     [,1]        [,2]        [,3]       [,4]       [,5]       [,6]      \n",
              "[1,] -0.04191483 -1.09617210 -0.1447797 -1.5696993  0.7671558  0.8345556\n",
              "[2,]  0.57996524  0.71881563  0.5910069 -1.2426460  0.6533149 -0.9869280\n",
              "[3,] -0.16861645  0.81769410 -0.8428971 -0.7816296  1.3668868  0.3429418\n",
              "[4,]  3.11625599 -0.67165778 -0.8532255 -0.7792243  0.3809900  0.7555340\n",
              "[5,]  0.99974953 -0.05782358 -0.3243117 -0.2207658 -0.7266338 -1.0978708"
            ],
            "text/latex": "A matrix: 5 × 6 of type dbl\n\\begin{tabular}{llllll}\n\t -0.04191483 & -1.09617210 & -0.1447797 & -1.5696993 &  0.7671558 &  0.8345556\\\\\n\t  0.57996524 &  0.71881563 &  0.5910069 & -1.2426460 &  0.6533149 & -0.9869280\\\\\n\t -0.16861645 &  0.81769410 & -0.8428971 & -0.7816296 &  1.3668868 &  0.3429418\\\\\n\t  3.11625599 & -0.67165778 & -0.8532255 & -0.7792243 &  0.3809900 &  0.7555340\\\\\n\t  0.99974953 & -0.05782358 & -0.3243117 & -0.2207658 & -0.7266338 & -1.0978708\\\\\n\\end{tabular}\n",
            "text/markdown": "\nA matrix: 5 × 6 of type dbl\n\n| -0.04191483 | -1.09617210 | -0.1447797 | -1.5696993 |  0.7671558 |  0.8345556 |\n|  0.57996524 |  0.71881563 |  0.5910069 | -1.2426460 |  0.6533149 | -0.9869280 |\n| -0.16861645 |  0.81769410 | -0.8428971 | -0.7816296 |  1.3668868 |  0.3429418 |\n|  3.11625599 | -0.67165778 | -0.8532255 | -0.7792243 |  0.3809900 |  0.7555340 |\n|  0.99974953 | -0.05782358 | -0.3243117 | -0.2207658 | -0.7266338 | -1.0978708 |\n\n",
            "text/html": [
              "<table class=\"dataframe\">\n",
              "<caption>A matrix: 5 × 6 of type dbl</caption>\n",
              "<tbody>\n",
              "\t<tr><td>-0.04191483</td><td>-1.09617210</td><td>-0.1447797</td><td>-1.5696993</td><td> 0.7671558</td><td> 0.8345556</td></tr>\n",
              "\t<tr><td> 0.57996524</td><td> 0.71881563</td><td> 0.5910069</td><td>-1.2426460</td><td> 0.6533149</td><td>-0.9869280</td></tr>\n",
              "\t<tr><td>-0.16861645</td><td> 0.81769410</td><td>-0.8428971</td><td>-0.7816296</td><td> 1.3668868</td><td> 0.3429418</td></tr>\n",
              "\t<tr><td> 3.11625599</td><td>-0.67165778</td><td>-0.8532255</td><td>-0.7792243</td><td> 0.3809900</td><td> 0.7555340</td></tr>\n",
              "\t<tr><td> 0.99974953</td><td>-0.05782358</td><td>-0.3243117</td><td>-0.2207658</td><td>-0.7266338</td><td>-1.0978708</td></tr>\n",
              "</tbody>\n",
              "</table>\n"
            ]
          },
          "metadata": {
            "tags": []
          }
        }
      ]
    },
    {
      "cell_type": "code",
      "metadata": {
        "colab": {
          "base_uri": "https://localhost:8080/",
          "height": 34
        },
        "id": "tM1WSc4ueSTV",
        "outputId": "8f8c3fff-b305-4e04-eb93-f213d2007724"
      },
      "source": [
        "# Sum the values of each column with apply()\n",
        "X_colsum <- apply(X,2,sum)\n",
        "X_colsum"
      ],
      "execution_count": 28,
      "outputs": [
        {
          "output_type": "display_data",
          "data": {
            "text/plain": [
              "[1]  4.4854395 -0.2891437 -1.5742071 -4.5939651  2.4417138 -0.1517674"
            ],
            "text/latex": "\\begin{enumerate*}\n\\item 4.48543947530897\n\\item -0.289143726783047\n\\item -1.57420706362573\n\\item -4.59396505941881\n\\item 2.4417137537615\n\\item -0.15176735956243\n\\end{enumerate*}\n",
            "text/markdown": "1. 4.48543947530897\n2. -0.289143726783047\n3. -1.57420706362573\n4. -4.59396505941881\n5. 2.4417137537615\n6. -0.15176735956243\n\n\n",
            "text/html": [
              "<style>\n",
              ".list-inline {list-style: none; margin:0; padding: 0}\n",
              ".list-inline>li {display: inline-block}\n",
              ".list-inline>li:not(:last-child)::after {content: \"\\00b7\"; padding: 0 .5ex}\n",
              "</style>\n",
              "<ol class=list-inline><li>4.48543947530897</li><li>-0.289143726783047</li><li>-1.57420706362573</li><li>-4.59396505941881</li><li>2.4417137537615</li><li>-0.15176735956243</li></ol>\n"
            ]
          },
          "metadata": {
            "tags": []
          }
        }
      ]
    },
    {
      "cell_type": "code",
      "metadata": {
        "colab": {
          "base_uri": "https://localhost:8080/",
          "height": 34
        },
        "id": "H5i9MkT4eclj",
        "outputId": "9e7a6eaa-868d-4807-9705-09789376ae29"
      },
      "source": [
        "# Sum the values of each row with apply()\n",
        "X_rowsum <- apply(X,1,sum)\n",
        "X_rowsum\n"
      ],
      "execution_count": 29,
      "outputs": [
        {
          "output_type": "display_data",
          "data": {
            "text/plain": [
              "[1] -1.2508545  0.3135287  0.7343796  1.9486725 -1.4276562"
            ],
            "text/latex": "\\begin{enumerate*}\n\\item -1.2508544865933\n\\item 0.313528702178305\n\\item 0.734379562183011\n\\item 1.94867247767819\n\\item -1.42765623576575\n\\end{enumerate*}\n",
            "text/markdown": "1. -1.2508544865933\n2. 0.313528702178305\n3. 0.734379562183011\n4. 1.94867247767819\n5. -1.42765623576575\n\n\n",
            "text/html": [
              "<style>\n",
              ".list-inline {list-style: none; margin:0; padding: 0}\n",
              ".list-inline>li {display: inline-block}\n",
              ".list-inline>li:not(:last-child)::after {content: \"\\00b7\"; padding: 0 .5ex}\n",
              "</style>\n",
              "<ol class=list-inline><li>-1.2508544865933</li><li>0.313528702178305</li><li>0.734379562183011</li><li>1.94867247767819</li><li>-1.42765623576575</li></ol>\n"
            ]
          },
          "metadata": {
            "tags": []
          }
        }
      ]
    },
    {
      "cell_type": "code",
      "metadata": {
        "id": "XzaE_-Cyfpk9",
        "colab": {
          "base_uri": "https://localhost:8080/",
          "height": 191
        },
        "outputId": "240d5e59-9e9a-4186-e038-7070c6577ef9"
      },
      "source": [
        "# Complete the following code by using looping construct\n",
        "# Construct a 5x6 matrix\n",
        "X <-matrix(rnorm(30), nrow=5, ncol=6)\n",
        "X\n",
        "# Sum the values of each column with apply()"
      ],
      "execution_count": 30,
      "outputs": [
        {
          "output_type": "display_data",
          "data": {
            "text/plain": [
              "     [,1]       [,2]        [,3]       [,4]       [,5]       [,6]      \n",
              "[1,] -1.9509003  0.02342181  2.1264560 -0.6751391 -1.0462733  1.5476270\n",
              "[2,] -0.1618026 -0.63601352  0.6405547  0.4194066  0.3663750  0.2756483\n",
              "[3,] -0.9540256 -0.20663500  1.2309558  1.3521549  0.8356295  0.5053180\n",
              "[4,]  0.1016567 -0.25075535  0.1656593  0.6437377 -1.4750099 -1.1991814\n",
              "[5,]  0.8344762  1.00092055 -0.2457478 -0.3132826  0.3251769 -0.3134165"
            ],
            "text/latex": "A matrix: 5 × 6 of type dbl\n\\begin{tabular}{llllll}\n\t -1.9509003 &  0.02342181 &  2.1264560 & -0.6751391 & -1.0462733 &  1.5476270\\\\\n\t -0.1618026 & -0.63601352 &  0.6405547 &  0.4194066 &  0.3663750 &  0.2756483\\\\\n\t -0.9540256 & -0.20663500 &  1.2309558 &  1.3521549 &  0.8356295 &  0.5053180\\\\\n\t  0.1016567 & -0.25075535 &  0.1656593 &  0.6437377 & -1.4750099 & -1.1991814\\\\\n\t  0.8344762 &  1.00092055 & -0.2457478 & -0.3132826 &  0.3251769 & -0.3134165\\\\\n\\end{tabular}\n",
            "text/markdown": "\nA matrix: 5 × 6 of type dbl\n\n| -1.9509003 |  0.02342181 |  2.1264560 | -0.6751391 | -1.0462733 |  1.5476270 |\n| -0.1618026 | -0.63601352 |  0.6405547 |  0.4194066 |  0.3663750 |  0.2756483 |\n| -0.9540256 | -0.20663500 |  1.2309558 |  1.3521549 |  0.8356295 |  0.5053180 |\n|  0.1016567 | -0.25075535 |  0.1656593 |  0.6437377 | -1.4750099 | -1.1991814 |\n|  0.8344762 |  1.00092055 | -0.2457478 | -0.3132826 |  0.3251769 | -0.3134165 |\n\n",
            "text/html": [
              "<table class=\"dataframe\">\n",
              "<caption>A matrix: 5 × 6 of type dbl</caption>\n",
              "<tbody>\n",
              "\t<tr><td>-1.9509003</td><td> 0.02342181</td><td> 2.1264560</td><td>-0.6751391</td><td>-1.0462733</td><td> 1.5476270</td></tr>\n",
              "\t<tr><td>-0.1618026</td><td>-0.63601352</td><td> 0.6405547</td><td> 0.4194066</td><td> 0.3663750</td><td> 0.2756483</td></tr>\n",
              "\t<tr><td>-0.9540256</td><td>-0.20663500</td><td> 1.2309558</td><td> 1.3521549</td><td> 0.8356295</td><td> 0.5053180</td></tr>\n",
              "\t<tr><td> 0.1016567</td><td>-0.25075535</td><td> 0.1656593</td><td> 0.6437377</td><td>-1.4750099</td><td>-1.1991814</td></tr>\n",
              "\t<tr><td> 0.8344762</td><td> 1.00092055</td><td>-0.2457478</td><td>-0.3132826</td><td> 0.3251769</td><td>-0.3134165</td></tr>\n",
              "</tbody>\n",
              "</table>\n"
            ]
          },
          "metadata": {
            "tags": []
          }
        }
      ]
    },
    {
      "cell_type": "markdown",
      "metadata": {
        "id": "c8gOYmFjf3lO"
      },
      "source": [
        "The **lapply()** Function is used when You want to apply a given function to every element of a list and obtain a list as a result.\n",
        " \n",
        " Syntax of **lapply()** looks like the **apply()** function.\n",
        "\n",
        "There is a slight difference in way they work, which is :\n",
        "\n",
        "\n",
        "\n",
        "1.   **lapply()** can be used for other objects like dataframes, lists or vectors\n",
        "2.   The output returned by **lapply()** is a list (which explains the “l” in the function name), which has the same number of elements as the object passed to it.\n",
        "\n",
        "To see how this works, complete the following code block.\n",
        "\n",
        "**lapply()** is a quite common operation performed on real data when making comparisons or aggregations from different dataframes.\n"
      ]
    },
    {
      "cell_type": "markdown",
      "metadata": {
        "id": "G0kWHtRVjDjw"
      },
      "source": [
        "The **sapply()** Function\n",
        "\n",
        "The **sapply()** function works like **lapply()**, but it tries to simplify the output to the most elementary data structure that is possible. And indeed, ```sapply()``` is a **‘wrapper’** function for **lapply()**.\n",
        "\n",
        "Let’s repeat the extraction operation of a single element as in the last example, but now take the first element of the second row (indexes 2 and 1) for each matrix.\n",
        "\n",
        "Applying the **lapply()** function would give us a list unless you pass ```simplify=FALSE``` as a parameter to **sapply()**. Then, a list will be returned. See how it works in the code chunk below:\n",
        "\n"
      ]
    },
    {
      "cell_type": "code",
      "metadata": {
        "id": "CbwaRO2ChyfV",
        "colab": {
          "base_uri": "https://localhost:8080/",
          "height": 163
        },
        "outputId": "48a0e8e4-386a-413c-9301-0a4b769ae7ed"
      },
      "source": [
        "# Using sequence 1:9 create a matrix A with size 3*3\n",
        "A <- matrix(1:9, nrow=3, ncol=3)\n",
        "A"
      ],
      "execution_count": 32,
      "outputs": [
        {
          "output_type": "display_data",
          "data": {
            "text/plain": [
              "     [,1] [,2] [,3]\n",
              "[1,] 1    4    7   \n",
              "[2,] 2    5    8   \n",
              "[3,] 3    6    9   "
            ],
            "text/latex": "A matrix: 3 × 3 of type int\n\\begin{tabular}{lll}\n\t 1 & 4 & 7\\\\\n\t 2 & 5 & 8\\\\\n\t 3 & 6 & 9\\\\\n\\end{tabular}\n",
            "text/markdown": "\nA matrix: 3 × 3 of type int\n\n| 1 | 4 | 7 |\n| 2 | 5 | 8 |\n| 3 | 6 | 9 |\n\n",
            "text/html": [
              "<table class=\"dataframe\">\n",
              "<caption>A matrix: 3 × 3 of type int</caption>\n",
              "<tbody>\n",
              "\t<tr><td>1</td><td>4</td><td>7</td></tr>\n",
              "\t<tr><td>2</td><td>5</td><td>8</td></tr>\n",
              "\t<tr><td>3</td><td>6</td><td>9</td></tr>\n",
              "</tbody>\n",
              "</table>\n"
            ]
          },
          "metadata": {
            "tags": []
          }
        }
      ]
    },
    {
      "cell_type": "code",
      "metadata": {
        "colab": {
          "base_uri": "https://localhost:8080/",
          "height": 195
        },
        "id": "t0miOf3JfBK2",
        "outputId": "350e39b2-bfd4-4dcb-ff96-f2217c79194d"
      },
      "source": [
        "#Using sequence 4:15 create a matrix B with size 4*3\n",
        "B <- matrix(4:15, nrow=4, ncol=3)\n",
        "B"
      ],
      "execution_count": 33,
      "outputs": [
        {
          "output_type": "display_data",
          "data": {
            "text/plain": [
              "     [,1] [,2] [,3]\n",
              "[1,] 4     8   12  \n",
              "[2,] 5     9   13  \n",
              "[3,] 6    10   14  \n",
              "[4,] 7    11   15  "
            ],
            "text/latex": "A matrix: 4 × 3 of type int\n\\begin{tabular}{lll}\n\t 4 &  8 & 12\\\\\n\t 5 &  9 & 13\\\\\n\t 6 & 10 & 14\\\\\n\t 7 & 11 & 15\\\\\n\\end{tabular}\n",
            "text/markdown": "\nA matrix: 4 × 3 of type int\n\n| 4 |  8 | 12 |\n| 5 |  9 | 13 |\n| 6 | 10 | 14 |\n| 7 | 11 | 15 |\n\n",
            "text/html": [
              "<table class=\"dataframe\">\n",
              "<caption>A matrix: 4 × 3 of type int</caption>\n",
              "<tbody>\n",
              "\t<tr><td>4</td><td> 8</td><td>12</td></tr>\n",
              "\t<tr><td>5</td><td> 9</td><td>13</td></tr>\n",
              "\t<tr><td>6</td><td>10</td><td>14</td></tr>\n",
              "\t<tr><td>7</td><td>11</td><td>15</td></tr>\n",
              "</tbody>\n",
              "</table>\n"
            ]
          },
          "metadata": {
            "tags": []
          }
        }
      ]
    },
    {
      "cell_type": "code",
      "metadata": {
        "colab": {
          "base_uri": "https://localhost:8080/",
          "height": 181
        },
        "id": "kr3mPvsffGMx",
        "outputId": "24a2465f-d21c-45f9-901f-22aef48149bf"
      },
      "source": [
        "#Using sequnce 8:10 create a matrix C with size 3*2\n",
        "C <- matrix(8:10, nrow=3, ncol=2)\n",
        "C"
      ],
      "execution_count": 34,
      "outputs": [
        {
          "output_type": "display_data",
          "data": {
            "text/plain": [
              "     [,1] [,2]\n",
              "[1,]  8    8  \n",
              "[2,]  9    9  \n",
              "[3,] 10   10  "
            ],
            "text/latex": "A matrix: 3 × 2 of type int\n\\begin{tabular}{ll}\n\t  8 &  8\\\\\n\t  9 &  9\\\\\n\t 10 & 10\\\\\n\\end{tabular}\n",
            "text/markdown": "\nA matrix: 3 × 2 of type int\n\n|  8 |  8 |\n|  9 |  9 |\n| 10 | 10 |\n\n",
            "text/html": [
              "<table class=\"dataframe\">\n",
              "<caption>A matrix: 3 × 2 of type int</caption>\n",
              "<tbody>\n",
              "\t<tr><td> 8</td><td> 8</td></tr>\n",
              "\t<tr><td> 9</td><td> 9</td></tr>\n",
              "\t<tr><td>10</td><td>10</td></tr>\n",
              "</tbody>\n",
              "</table>\n"
            ]
          },
          "metadata": {
            "tags": []
          }
        }
      ]
    },
    {
      "cell_type": "code",
      "metadata": {
        "colab": {
          "base_uri": "https://localhost:8080/",
          "height": 532
        },
        "id": "TdWfLaFSfJ1k",
        "outputId": "f6a1b1cb-02a6-4991-f825-3abaf57781ac"
      },
      "source": [
        "# create variable MyList as list of matrix A, B, C\n",
        "MyList <- list(A, B, C)\n",
        "MyList"
      ],
      "execution_count": 35,
      "outputs": [
        {
          "output_type": "display_data",
          "data": {
            "text/plain": [
              "[[1]]\n",
              "     [,1] [,2] [,3]\n",
              "[1,]    1    4    7\n",
              "[2,]    2    5    8\n",
              "[3,]    3    6    9\n",
              "\n",
              "[[2]]\n",
              "     [,1] [,2] [,3]\n",
              "[1,]    4    8   12\n",
              "[2,]    5    9   13\n",
              "[3,]    6   10   14\n",
              "[4,]    7   11   15\n",
              "\n",
              "[[3]]\n",
              "     [,1] [,2]\n",
              "[1,]    8    8\n",
              "[2,]    9    9\n",
              "[3,]   10   10\n"
            ],
            "text/latex": "\\begin{enumerate}\n\\item A matrix: 3 × 3 of type int\n\\begin{tabular}{lll}\n\t 1 & 4 & 7\\\\\n\t 2 & 5 & 8\\\\\n\t 3 & 6 & 9\\\\\n\\end{tabular}\n\n\\item A matrix: 4 × 3 of type int\n\\begin{tabular}{lll}\n\t 4 &  8 & 12\\\\\n\t 5 &  9 & 13\\\\\n\t 6 & 10 & 14\\\\\n\t 7 & 11 & 15\\\\\n\\end{tabular}\n\n\\item A matrix: 3 × 2 of type int\n\\begin{tabular}{ll}\n\t  8 &  8\\\\\n\t  9 &  9\\\\\n\t 10 & 10\\\\\n\\end{tabular}\n\n\\end{enumerate}\n",
            "text/markdown": "1. \nA matrix: 3 × 3 of type int\n\n| 1 | 4 | 7 |\n| 2 | 5 | 8 |\n| 3 | 6 | 9 |\n\n\n2. \nA matrix: 4 × 3 of type int\n\n| 4 |  8 | 12 |\n| 5 |  9 | 13 |\n| 6 | 10 | 14 |\n| 7 | 11 | 15 |\n\n\n3. \nA matrix: 3 × 2 of type int\n\n|  8 |  8 |\n|  9 |  9 |\n| 10 | 10 |\n\n\n\n\n",
            "text/html": [
              "<ol>\n",
              "\t<li><table class=\"dataframe\">\n",
              "<caption>A matrix: 3 × 3 of type int</caption>\n",
              "<tbody>\n",
              "\t<tr><td>1</td><td>4</td><td>7</td></tr>\n",
              "\t<tr><td>2</td><td>5</td><td>8</td></tr>\n",
              "\t<tr><td>3</td><td>6</td><td>9</td></tr>\n",
              "</tbody>\n",
              "</table>\n",
              "</li>\n",
              "\t<li><table class=\"dataframe\">\n",
              "<caption>A matrix: 4 × 3 of type int</caption>\n",
              "<tbody>\n",
              "\t<tr><td>4</td><td> 8</td><td>12</td></tr>\n",
              "\t<tr><td>5</td><td> 9</td><td>13</td></tr>\n",
              "\t<tr><td>6</td><td>10</td><td>14</td></tr>\n",
              "\t<tr><td>7</td><td>11</td><td>15</td></tr>\n",
              "</tbody>\n",
              "</table>\n",
              "</li>\n",
              "\t<li><table class=\"dataframe\">\n",
              "<caption>A matrix: 3 × 2 of type int</caption>\n",
              "<tbody>\n",
              "\t<tr><td> 8</td><td> 8</td></tr>\n",
              "\t<tr><td> 9</td><td> 9</td></tr>\n",
              "\t<tr><td>10</td><td>10</td></tr>\n",
              "</tbody>\n",
              "</table>\n",
              "</li>\n",
              "</ol>\n"
            ]
          },
          "metadata": {
            "tags": []
          }
        }
      ]
    },
    {
      "cell_type": "code",
      "metadata": {
        "colab": {
          "base_uri": "https://localhost:8080/",
          "height": 97
        },
        "id": "AmnnqwXufNlu",
        "outputId": "3b719e56-a7ee-4b60-c983-9b98e336be80"
      },
      "source": [
        "# Using lapply and [ operator Extract the 2nd column from `MyList` with the selection operator `[` with `lapply()`\n",
        "lapply(MyList, '[', , 2)"
      ],
      "execution_count": 36,
      "outputs": [
        {
          "output_type": "display_data",
          "data": {
            "text/plain": [
              "[[1]]\n",
              "[1] 4 5 6\n",
              "\n",
              "[[2]]\n",
              "[1]  8  9 10 11\n",
              "\n",
              "[[3]]\n",
              "[1]  8  9 10\n"
            ],
            "text/latex": "\\begin{enumerate}\n\\item \\begin{enumerate*}\n\\item 4\n\\item 5\n\\item 6\n\\end{enumerate*}\n\n\\item \\begin{enumerate*}\n\\item 8\n\\item 9\n\\item 10\n\\item 11\n\\end{enumerate*}\n\n\\item \\begin{enumerate*}\n\\item 8\n\\item 9\n\\item 10\n\\end{enumerate*}\n\n\\end{enumerate}\n",
            "text/markdown": "1. 1. 4\n2. 5\n3. 6\n\n\n\n2. 1. 8\n2. 9\n3. 10\n4. 11\n\n\n\n3. 1. 8\n2. 9\n3. 10\n\n\n\n\n\n",
            "text/html": [
              "<ol>\n",
              "\t<li><style>\n",
              ".list-inline {list-style: none; margin:0; padding: 0}\n",
              ".list-inline>li {display: inline-block}\n",
              ".list-inline>li:not(:last-child)::after {content: \"\\00b7\"; padding: 0 .5ex}\n",
              "</style>\n",
              "<ol class=list-inline><li>4</li><li>5</li><li>6</li></ol>\n",
              "</li>\n",
              "\t<li><style>\n",
              ".list-inline {list-style: none; margin:0; padding: 0}\n",
              ".list-inline>li {display: inline-block}\n",
              ".list-inline>li:not(:last-child)::after {content: \"\\00b7\"; padding: 0 .5ex}\n",
              "</style>\n",
              "<ol class=list-inline><li>8</li><li>9</li><li>10</li><li>11</li></ol>\n",
              "</li>\n",
              "\t<li><style>\n",
              ".list-inline {list-style: none; margin:0; padding: 0}\n",
              ".list-inline>li {display: inline-block}\n",
              ".list-inline>li:not(:last-child)::after {content: \"\\00b7\"; padding: 0 .5ex}\n",
              "</style>\n",
              "<ol class=list-inline><li>8</li><li>9</li><li>10</li></ol>\n",
              "</li>\n",
              "</ol>\n"
            ]
          },
          "metadata": {
            "tags": []
          }
        }
      ]
    },
    {
      "cell_type": "code",
      "metadata": {
        "colab": {
          "base_uri": "https://localhost:8080/",
          "height": 97
        },
        "id": "hhDYJB2PfVvs",
        "outputId": "20d67557-1306-4b1a-cfa2-72d685390647"
      },
      "source": [
        "# Using lapply and [ operator Extract the 4th row from `MyList` with the selection operator `[` with `lapply()`\n",
        "\n",
        "lapply(MyList,'[', 4)"
      ],
      "execution_count": 37,
      "outputs": [
        {
          "output_type": "display_data",
          "data": {
            "text/plain": [
              "[[1]]\n",
              "[1] 4\n",
              "\n",
              "[[2]]\n",
              "[1] 7\n",
              "\n",
              "[[3]]\n",
              "[1] 8\n"
            ],
            "text/latex": "\\begin{enumerate}\n\\item 4\n\\item 7\n\\item 8\n\\end{enumerate}\n",
            "text/markdown": "1. 4\n2. 7\n3. 8\n\n\n",
            "text/html": [
              "<ol>\n",
              "\t<li>4</li>\n",
              "\t<li>7</li>\n",
              "\t<li>8</li>\n",
              "</ol>\n"
            ]
          },
          "metadata": {
            "tags": []
          }
        }
      ]
    },
    {
      "cell_type": "code",
      "metadata": {
        "colab": {
          "base_uri": "https://localhost:8080/",
          "height": 97
        },
        "id": "tFGsquGBfYmP",
        "outputId": "3afd516b-ab5d-42ad-f06a-fae2974f09a5"
      },
      "source": [
        "# Using lapply and [ operator Extract the 1st row from `MyList` with the selection operator `[` with `lapply()`\n",
        "lapply(MyList, '[', , 1)"
      ],
      "execution_count": 38,
      "outputs": [
        {
          "output_type": "display_data",
          "data": {
            "text/plain": [
              "[[1]]\n",
              "[1] 1 2 3\n",
              "\n",
              "[[2]]\n",
              "[1] 4 5 6 7\n",
              "\n",
              "[[3]]\n",
              "[1]  8  9 10\n"
            ],
            "text/latex": "\\begin{enumerate}\n\\item \\begin{enumerate*}\n\\item 1\n\\item 2\n\\item 3\n\\end{enumerate*}\n\n\\item \\begin{enumerate*}\n\\item 4\n\\item 5\n\\item 6\n\\item 7\n\\end{enumerate*}\n\n\\item \\begin{enumerate*}\n\\item 8\n\\item 9\n\\item 10\n\\end{enumerate*}\n\n\\end{enumerate}\n",
            "text/markdown": "1. 1. 1\n2. 2\n3. 3\n\n\n\n2. 1. 4\n2. 5\n3. 6\n4. 7\n\n\n\n3. 1. 8\n2. 9\n3. 10\n\n\n\n\n\n",
            "text/html": [
              "<ol>\n",
              "\t<li><style>\n",
              ".list-inline {list-style: none; margin:0; padding: 0}\n",
              ".list-inline>li {display: inline-block}\n",
              ".list-inline>li:not(:last-child)::after {content: \"\\00b7\"; padding: 0 .5ex}\n",
              "</style>\n",
              "<ol class=list-inline><li>1</li><li>2</li><li>3</li></ol>\n",
              "</li>\n",
              "\t<li><style>\n",
              ".list-inline {list-style: none; margin:0; padding: 0}\n",
              ".list-inline>li {display: inline-block}\n",
              ".list-inline>li:not(:last-child)::after {content: \"\\00b7\"; padding: 0 .5ex}\n",
              "</style>\n",
              "<ol class=list-inline><li>4</li><li>5</li><li>6</li><li>7</li></ol>\n",
              "</li>\n",
              "\t<li><style>\n",
              ".list-inline {list-style: none; margin:0; padding: 0}\n",
              ".list-inline>li {display: inline-block}\n",
              ".list-inline>li:not(:last-child)::after {content: \"\\00b7\"; padding: 0 .5ex}\n",
              "</style>\n",
              "<ol class=list-inline><li>8</li><li>9</li><li>10</li></ol>\n",
              "</li>\n",
              "</ol>\n"
            ]
          },
          "metadata": {
            "tags": []
          }
        }
      ]
    },
    {
      "cell_type": "code",
      "metadata": {
        "id": "RxXnDh47jiBF",
        "colab": {
          "base_uri": "https://localhost:8080/",
          "height": 212
        },
        "outputId": "7d034ace-1dae-4069-8af7-280c8e451795"
      },
      "source": [
        "# Return a list with `lapply()`\n",
        "lapply(MyList,\"[\", 2, 1 )\n",
        "\n",
        "# Return a vector with `sapply()`\n",
        "sapply(MyList,\"[\", 2, 1 )\n",
        "\n",
        "# Return a list with `sapply()`\n",
        "sapply(MyList,\"[\", 2, 1, simplify=F)\n",
        "\n",
        "# Return a vector with `unlist()`\n",
        "unlist(lapply(MyList,\"[\", 2, 1 ))"
      ],
      "execution_count": 39,
      "outputs": [
        {
          "output_type": "display_data",
          "data": {
            "text/plain": [
              "[[1]]\n",
              "[1] 2\n",
              "\n",
              "[[2]]\n",
              "[1] 5\n",
              "\n",
              "[[3]]\n",
              "[1] 9\n"
            ],
            "text/latex": "\\begin{enumerate}\n\\item 2\n\\item 5\n\\item 9\n\\end{enumerate}\n",
            "text/markdown": "1. 2\n2. 5\n3. 9\n\n\n",
            "text/html": [
              "<ol>\n",
              "\t<li>2</li>\n",
              "\t<li>5</li>\n",
              "\t<li>9</li>\n",
              "</ol>\n"
            ]
          },
          "metadata": {
            "tags": []
          }
        },
        {
          "output_type": "display_data",
          "data": {
            "text/plain": [
              "[1] 2 5 9"
            ],
            "text/latex": "\\begin{enumerate*}\n\\item 2\n\\item 5\n\\item 9\n\\end{enumerate*}\n",
            "text/markdown": "1. 2\n2. 5\n3. 9\n\n\n",
            "text/html": [
              "<style>\n",
              ".list-inline {list-style: none; margin:0; padding: 0}\n",
              ".list-inline>li {display: inline-block}\n",
              ".list-inline>li:not(:last-child)::after {content: \"\\00b7\"; padding: 0 .5ex}\n",
              "</style>\n",
              "<ol class=list-inline><li>2</li><li>5</li><li>9</li></ol>\n"
            ]
          },
          "metadata": {
            "tags": []
          }
        },
        {
          "output_type": "display_data",
          "data": {
            "text/plain": [
              "[[1]]\n",
              "[1] 2\n",
              "\n",
              "[[2]]\n",
              "[1] 5\n",
              "\n",
              "[[3]]\n",
              "[1] 9\n"
            ],
            "text/latex": "\\begin{enumerate}\n\\item 2\n\\item 5\n\\item 9\n\\end{enumerate}\n",
            "text/markdown": "1. 2\n2. 5\n3. 9\n\n\n",
            "text/html": [
              "<ol>\n",
              "\t<li>2</li>\n",
              "\t<li>5</li>\n",
              "\t<li>9</li>\n",
              "</ol>\n"
            ]
          },
          "metadata": {
            "tags": []
          }
        },
        {
          "output_type": "display_data",
          "data": {
            "text/plain": [
              "[1] 2 5 9"
            ],
            "text/latex": "\\begin{enumerate*}\n\\item 2\n\\item 5\n\\item 9\n\\end{enumerate*}\n",
            "text/markdown": "1. 2\n2. 5\n3. 9\n\n\n",
            "text/html": [
              "<style>\n",
              ".list-inline {list-style: none; margin:0; padding: 0}\n",
              ".list-inline>li {display: inline-block}\n",
              ".list-inline>li:not(:last-child)::after {content: \"\\00b7\"; padding: 0 .5ex}\n",
              "</style>\n",
              "<ol class=list-inline><li>2</li><li>5</li><li>9</li></ol>\n"
            ]
          },
          "metadata": {
            "tags": []
          }
        }
      ]
    },
    {
      "cell_type": "markdown",
      "metadata": {
        "id": "WuuRcW03kJyA"
      },
      "source": [
        "In this Text Block Write note on mapply function and give exampe code and exaplain use of mapply function.\n",
        "\n",
        "1.  \n"
      ]
    },
    {
      "cell_type": "code",
      "metadata": {
        "id": "pos2C33ujiEh",
        "colab": {
          "base_uri": "https://localhost:8080/",
          "height": 201
        },
        "outputId": "493fe597-351c-40f4-9199-ec23fe103d04"
      },
      "source": [
        "# Example use of mapply function\n",
        "mapply(rep, 1:9, 9:1)"
      ],
      "execution_count": 40,
      "outputs": [
        {
          "output_type": "display_data",
          "data": {
            "text/plain": [
              "[[1]]\n",
              "[1] 1 1 1 1 1 1 1 1 1\n",
              "\n",
              "[[2]]\n",
              "[1] 2 2 2 2 2 2 2 2\n",
              "\n",
              "[[3]]\n",
              "[1] 3 3 3 3 3 3 3\n",
              "\n",
              "[[4]]\n",
              "[1] 4 4 4 4 4 4\n",
              "\n",
              "[[5]]\n",
              "[1] 5 5 5 5 5\n",
              "\n",
              "[[6]]\n",
              "[1] 6 6 6 6\n",
              "\n",
              "[[7]]\n",
              "[1] 7 7 7\n",
              "\n",
              "[[8]]\n",
              "[1] 8 8\n",
              "\n",
              "[[9]]\n",
              "[1] 9\n"
            ],
            "text/latex": "\\begin{enumerate}\n\\item \\begin{enumerate*}\n\\item 1\n\\item 1\n\\item 1\n\\item 1\n\\item 1\n\\item 1\n\\item 1\n\\item 1\n\\item 1\n\\end{enumerate*}\n\n\\item \\begin{enumerate*}\n\\item 2\n\\item 2\n\\item 2\n\\item 2\n\\item 2\n\\item 2\n\\item 2\n\\item 2\n\\end{enumerate*}\n\n\\item \\begin{enumerate*}\n\\item 3\n\\item 3\n\\item 3\n\\item 3\n\\item 3\n\\item 3\n\\item 3\n\\end{enumerate*}\n\n\\item \\begin{enumerate*}\n\\item 4\n\\item 4\n\\item 4\n\\item 4\n\\item 4\n\\item 4\n\\end{enumerate*}\n\n\\item \\begin{enumerate*}\n\\item 5\n\\item 5\n\\item 5\n\\item 5\n\\item 5\n\\end{enumerate*}\n\n\\item \\begin{enumerate*}\n\\item 6\n\\item 6\n\\item 6\n\\item 6\n\\end{enumerate*}\n\n\\item \\begin{enumerate*}\n\\item 7\n\\item 7\n\\item 7\n\\end{enumerate*}\n\n\\item \\begin{enumerate*}\n\\item 8\n\\item 8\n\\end{enumerate*}\n\n\\item 9\n\\end{enumerate}\n",
            "text/markdown": "1. 1. 1\n2. 1\n3. 1\n4. 1\n5. 1\n6. 1\n7. 1\n8. 1\n9. 1\n\n\n\n2. 1. 2\n2. 2\n3. 2\n4. 2\n5. 2\n6. 2\n7. 2\n8. 2\n\n\n\n3. 1. 3\n2. 3\n3. 3\n4. 3\n5. 3\n6. 3\n7. 3\n\n\n\n4. 1. 4\n2. 4\n3. 4\n4. 4\n5. 4\n6. 4\n\n\n\n5. 1. 5\n2. 5\n3. 5\n4. 5\n5. 5\n\n\n\n6. 1. 6\n2. 6\n3. 6\n4. 6\n\n\n\n7. 1. 7\n2. 7\n3. 7\n\n\n\n8. 1. 8\n2. 8\n\n\n\n9. 9\n\n\n",
            "text/html": [
              "<ol>\n",
              "\t<li><style>\n",
              ".list-inline {list-style: none; margin:0; padding: 0}\n",
              ".list-inline>li {display: inline-block}\n",
              ".list-inline>li:not(:last-child)::after {content: \"\\00b7\"; padding: 0 .5ex}\n",
              "</style>\n",
              "<ol class=list-inline><li>1</li><li>1</li><li>1</li><li>1</li><li>1</li><li>1</li><li>1</li><li>1</li><li>1</li></ol>\n",
              "</li>\n",
              "\t<li><style>\n",
              ".list-inline {list-style: none; margin:0; padding: 0}\n",
              ".list-inline>li {display: inline-block}\n",
              ".list-inline>li:not(:last-child)::after {content: \"\\00b7\"; padding: 0 .5ex}\n",
              "</style>\n",
              "<ol class=list-inline><li>2</li><li>2</li><li>2</li><li>2</li><li>2</li><li>2</li><li>2</li><li>2</li></ol>\n",
              "</li>\n",
              "\t<li><style>\n",
              ".list-inline {list-style: none; margin:0; padding: 0}\n",
              ".list-inline>li {display: inline-block}\n",
              ".list-inline>li:not(:last-child)::after {content: \"\\00b7\"; padding: 0 .5ex}\n",
              "</style>\n",
              "<ol class=list-inline><li>3</li><li>3</li><li>3</li><li>3</li><li>3</li><li>3</li><li>3</li></ol>\n",
              "</li>\n",
              "\t<li><style>\n",
              ".list-inline {list-style: none; margin:0; padding: 0}\n",
              ".list-inline>li {display: inline-block}\n",
              ".list-inline>li:not(:last-child)::after {content: \"\\00b7\"; padding: 0 .5ex}\n",
              "</style>\n",
              "<ol class=list-inline><li>4</li><li>4</li><li>4</li><li>4</li><li>4</li><li>4</li></ol>\n",
              "</li>\n",
              "\t<li><style>\n",
              ".list-inline {list-style: none; margin:0; padding: 0}\n",
              ".list-inline>li {display: inline-block}\n",
              ".list-inline>li:not(:last-child)::after {content: \"\\00b7\"; padding: 0 .5ex}\n",
              "</style>\n",
              "<ol class=list-inline><li>5</li><li>5</li><li>5</li><li>5</li><li>5</li></ol>\n",
              "</li>\n",
              "\t<li><style>\n",
              ".list-inline {list-style: none; margin:0; padding: 0}\n",
              ".list-inline>li {display: inline-block}\n",
              ".list-inline>li:not(:last-child)::after {content: \"\\00b7\"; padding: 0 .5ex}\n",
              "</style>\n",
              "<ol class=list-inline><li>6</li><li>6</li><li>6</li><li>6</li></ol>\n",
              "</li>\n",
              "\t<li><style>\n",
              ".list-inline {list-style: none; margin:0; padding: 0}\n",
              ".list-inline>li {display: inline-block}\n",
              ".list-inline>li:not(:last-child)::after {content: \"\\00b7\"; padding: 0 .5ex}\n",
              "</style>\n",
              "<ol class=list-inline><li>7</li><li>7</li><li>7</li></ol>\n",
              "</li>\n",
              "\t<li><style>\n",
              ".list-inline {list-style: none; margin:0; padding: 0}\n",
              ".list-inline>li {display: inline-block}\n",
              ".list-inline>li:not(:last-child)::after {content: \"\\00b7\"; padding: 0 .5ex}\n",
              "</style>\n",
              "<ol class=list-inline><li>8</li><li>8</li></ol>\n",
              "</li>\n",
              "\t<li>9</li>\n",
              "</ol>\n"
            ]
          },
          "metadata": {
            "tags": []
          }
        }
      ]
    },
    {
      "cell_type": "code",
      "metadata": {
        "colab": {
          "base_uri": "https://localhost:8080/",
          "height": 52
        },
        "id": "nNjHYU-WfkiN",
        "outputId": "5387309b-9bf5-40a0-a22a-ea2ad7deee8e"
      },
      "source": [
        "#Example 2\n",
        "#Another use for mapply would be to create a new variable. For example, using dataset t, I could divide one column by another column to create a new value. This would be useful for creating a ratio of two variables as shown in the example below.\n",
        "my.matrx <- matrix(c(1:10, 11:20, 21:30), nrow = 10, ncol = 3)\n",
        "tdata <- as.data.frame(cbind(c(1,1,1,1,1,2,2,2,2,2), my.matrx))\n",
        "\n",
        "tdata$V5<- mapply(function(x, y) x/y, tdata$V2, tdata$V4)\n",
        "tdata$V5"
      ],
      "execution_count": 41,
      "outputs": [
        {
          "output_type": "display_data",
          "data": {
            "text/plain": [
              " [1] 0.04761905 0.09090909 0.13043478 0.16666667 0.20000000 0.23076923\n",
              " [7] 0.25925926 0.28571429 0.31034483 0.33333333"
            ],
            "text/latex": "\\begin{enumerate*}\n\\item 0.0476190476190476\n\\item 0.0909090909090909\n\\item 0.130434782608696\n\\item 0.166666666666667\n\\item 0.2\n\\item 0.230769230769231\n\\item 0.259259259259259\n\\item 0.285714285714286\n\\item 0.310344827586207\n\\item 0.333333333333333\n\\end{enumerate*}\n",
            "text/markdown": "1. 0.0476190476190476\n2. 0.0909090909090909\n3. 0.130434782608696\n4. 0.166666666666667\n5. 0.2\n6. 0.230769230769231\n7. 0.259259259259259\n8. 0.285714285714286\n9. 0.310344827586207\n10. 0.333333333333333\n\n\n",
            "text/html": [
              "<style>\n",
              ".list-inline {list-style: none; margin:0; padding: 0}\n",
              ".list-inline>li {display: inline-block}\n",
              ".list-inline>li:not(:last-child)::after {content: \"\\00b7\"; padding: 0 .5ex}\n",
              "</style>\n",
              "<ol class=list-inline><li>0.0476190476190476</li><li>0.0909090909090909</li><li>0.130434782608696</li><li>0.166666666666667</li><li>0.2</li><li>0.230769230769231</li><li>0.259259259259259</li><li>0.285714285714286</li><li>0.310344827586207</li><li>0.333333333333333</li></ol>\n"
            ]
          },
          "metadata": {
            "tags": []
          }
        }
      ]
    },
    {
      "cell_type": "code",
      "metadata": {
        "colab": {
          "base_uri": "https://localhost:8080/",
          "height": 34
        },
        "id": "ARQBtzNRfnCq",
        "outputId": "af948c1d-4612-466d-fdc7-e630b703a5d3"
      },
      "source": [
        "#Example 3\n",
        "#When using an apply family function to create a new variable, one option is to create a new vector ahead of time with the size of the vector pre-allocated. I created a numeric vector of length 10 using the vector function. The arguments for the vector function are vector(mode, length). Inside mapply I created a function to multiple two variables together. The results of the mapply function are then saved into the vector.\n",
        "new.vec <- vector(mode = \"numeric\", length = 10)\n",
        "new.vec <- mapply(function(x, y) x*y, tdata$V3, tdata$V4)\n",
        "new.vec"
      ],
      "execution_count": 42,
      "outputs": [
        {
          "output_type": "display_data",
          "data": {
            "text/plain": [
              " [1] 231 264 299 336 375 416 459 504 551 600"
            ],
            "text/latex": "\\begin{enumerate*}\n\\item 231\n\\item 264\n\\item 299\n\\item 336\n\\item 375\n\\item 416\n\\item 459\n\\item 504\n\\item 551\n\\item 600\n\\end{enumerate*}\n",
            "text/markdown": "1. 231\n2. 264\n3. 299\n4. 336\n5. 375\n6. 416\n7. 459\n8. 504\n9. 551\n10. 600\n\n\n",
            "text/html": [
              "<style>\n",
              ".list-inline {list-style: none; margin:0; padding: 0}\n",
              ".list-inline>li {display: inline-block}\n",
              ".list-inline>li:not(:last-child)::after {content: \"\\00b7\"; padding: 0 .5ex}\n",
              "</style>\n",
              "<ol class=list-inline><li>231</li><li>264</li><li>299</li><li>336</li><li>375</li><li>416</li><li>459</li><li>504</li><li>551</li><li>600</li></ol>\n"
            ]
          },
          "metadata": {
            "tags": []
          }
        }
      ]
    }
  ]
}